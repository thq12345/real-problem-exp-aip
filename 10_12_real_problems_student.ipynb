{
  "nbformat": 4,
  "nbformat_minor": 0,
  "metadata": {
    "colab": {
      "provenance": [],
      "collapsed_sections": [
        "m7qWg4d5u8gk",
        "inqRZaZaKuDD",
        "pRrMsOoZS8oz",
        "PVot0lwlTvtv",
        "iojkRlV1UGHF",
        "6fAIjwYLJG5p",
        "fRWNu24jU3x2",
        "wlmzcybAVctn",
        "l1TKPHGPYt0L",
        "saymOPyWazGN",
        "7n5FVAFFf1Uk",
        "ZmZEhpzUf4el",
        "8fca-VLeXPuc",
        "dfChH0mUXMbp",
        "aXTn0XuvXRgv",
        "inSkwJwaXThN"
      ],
      "authorship_tag": "ABX9TyPbbAKMI6DE/Ul8wgOnV+rl",
      "include_colab_link": true
    },
    "kernelspec": {
      "name": "python3",
      "display_name": "Python 3"
    },
    "language_info": {
      "name": "python"
    }
  },
  "cells": [
    {
      "cell_type": "markdown",
      "metadata": {
        "id": "view-in-github",
        "colab_type": "text"
      },
      "source": [
        "<a href=\"https://colab.research.google.com/github/dsi-principles-prog-F2023/real-problem-examples/blob/main/10_12_real_problems_student.ipynb\" target=\"_parent\"><img src=\"https://colab.research.google.com/assets/colab-badge.svg\" alt=\"Open In Colab\"/></a>"
      ]
    },
    {
      "cell_type": "markdown",
      "source": [
        "# Real Problems"
      ],
      "metadata": {
        "id": "d_KHvqM0-XiC"
      }
    },
    {
      "cell_type": "markdown",
      "source": [
        "In this notebook, we will review Object Oriented Programming, error handling, UI design and debugging through looking into real-life problems."
      ],
      "metadata": {
        "id": "uywQVNYiAZxV"
      }
    },
    {
      "cell_type": "markdown",
      "source": [
        "## Import libraries"
      ],
      "metadata": {
        "id": "dykh6sBgDOmQ"
      }
    },
    {
      "cell_type": "code",
      "source": [
        "%%capture\n",
        "!pip install gradio\n",
        "!pip install streamlit\n",
        "!pip install pyngrok\n",
        "!pip install pytest"
      ],
      "metadata": {
        "id": "BIXVoc7CDXt6"
      },
      "execution_count": 10,
      "outputs": []
    },
    {
      "cell_type": "code",
      "execution_count": 11,
      "metadata": {
        "id": "fLlebOLY92hL"
      },
      "outputs": [],
      "source": [
        "import numpy as np\n",
        "import pandas as pd\n",
        "import matplotlib.pyplot as plt\n",
        "import seaborn as sns\n",
        "import gradio as gr\n",
        "from pyngrok import ngrok\n",
        "import streamlit as st\n",
        "\n",
        "import unittest\n",
        "import queue"
      ]
    },
    {
      "cell_type": "markdown",
      "source": [
        "## Solve real problems"
      ],
      "metadata": {
        "id": "K-4JSJYrEuR5"
      }
    },
    {
      "cell_type": "markdown",
      "source": [
        "### Part I: Equivalent Problems"
      ],
      "metadata": {
        "id": "m7qWg4d5u8gk"
      }
    },
    {
      "cell_type": "markdown",
      "source": [
        "**Problem Statement:**\n",
        "**Design an algorithm to identify all the contiguous subarrays within an array that sum up to a specific value.**\n",
        "\n",
        "In a practical scenario, consider you have a stream of data (like data from sensors, scores in a game, daily sales, etc.), and you want to identify specific patterns or combinations. Finding contiguous data segments that match a specific sum can help in identifying these patterns."
      ],
      "metadata": {
        "id": "D5uKQR17xl_y"
      }
    },
    {
      "cell_type": "code",
      "source": [
        "def find_subarrays(arr, target):\n",
        "    # TODO: Write your code here\n",
        "    return []"
      ],
      "metadata": {
        "id": "CNcKRM7txnn4"
      },
      "execution_count": 6,
      "outputs": []
    },
    {
      "cell_type": "markdown",
      "source": [
        "**Neuroscience:**\n",
        "\n",
        "Problem:\n",
        "\n",
        "During a neural recording experiment, each integer in the array represents the voltage level of a neuron at a given millisecond. Identify contiguous milliseconds where the sum of voltage levels matches a target. What could this indicate about the neuron's activity or potential spikes?"
      ],
      "metadata": {
        "id": "lAejH0jiyHqc"
      }
    },
    {
      "cell_type": "code",
      "source": [],
      "metadata": {
        "id": "J-Ng6usDyMyU"
      },
      "execution_count": null,
      "outputs": []
    },
    {
      "cell_type": "markdown",
      "source": [
        "**Meteorology:**\n",
        "\n",
        "Problem:\n",
        "\n",
        "For a particular location, each integer in the array represents the rainfall (in mm) on a day. Identify contiguous days where the accumulated rainfall equals a specific threshold. How can this be used to study weather patterns or predict flooding?"
      ],
      "metadata": {
        "id": "JVV2dy92yM9g"
      }
    },
    {
      "cell_type": "code",
      "source": [],
      "metadata": {
        "id": "3ivi9wCfyNJb"
      },
      "execution_count": null,
      "outputs": []
    },
    {
      "cell_type": "markdown",
      "source": [
        "**Music Analysis:**\n",
        "\n",
        "Problem:\n",
        "\n",
        "Given an array that represents the duration (in seconds) of individual musical notes in a song, identify sequences (contiguous notes) whose total duration matches a particular value. What can this tell us about the rhythm or the pattern of the composition?"
      ],
      "metadata": {
        "id": "7ILDTnr1yNoW"
      }
    },
    {
      "cell_type": "code",
      "source": [],
      "metadata": {
        "id": "HZlEmRFsyNwj"
      },
      "execution_count": null,
      "outputs": []
    },
    {
      "cell_type": "markdown",
      "source": [
        "**Network Security:**\n",
        "\n",
        "Problem:\n",
        "\n",
        "\"In a network stream, where each integer of an array represents the number of requests to a server per minute, identify contiguous time intervals that sum up to an unusual level of requests. How could this be significant in identifying and preventing potential cyber-attacks?\""
      ],
      "metadata": {
        "id": "2aiS-8bX-GMm"
      }
    },
    {
      "cell_type": "code",
      "source": [
        "## If you cannot figure out, check the appendix part\n",
        "requests_per_minute = [100, 120, 130, 140, 150, 160, 170]\n",
        "unusual_request_threshold = 450\n",
        "find_subarrays(requests_per_minute, unusual_request_threshold)"
      ],
      "metadata": {
        "id": "tXtkojp3-GS3"
      },
      "execution_count": null,
      "outputs": []
    },
    {
      "cell_type": "markdown",
      "source": [
        "**Social Media Analytics**\n",
        "\n",
        "Problem:\n",
        "\n",
        "Given an array where each integer represents the number of user interactions (likes, shares, comments) on a social media post per day, identify sequences of days that aggregate to a specific interaction target. What could these sequences imply about content virality or user engagement?"
      ],
      "metadata": {
        "id": "0UjkpxYt-L4H"
      }
    },
    {
      "cell_type": "code",
      "source": [],
      "metadata": {
        "id": "qjz7KISt-L_a"
      },
      "execution_count": null,
      "outputs": []
    },
    {
      "cell_type": "markdown",
      "source": [
        "### Part II: Restaurant Waitlist"
      ],
      "metadata": {
        "id": "inqRZaZaKuDD"
      }
    },
    {
      "cell_type": "markdown",
      "source": [
        "Restaurant Waitlist\n",
        "\n",
        "**Scenario:**\n",
        "\n",
        "A local restaurant wants to manage their waitlist using a digital system. When customers come in and there's no table available, they're added to the waitlist. As tables become available, customers are seated in the order they were added to the list.\n",
        "\n",
        "**Requirements:**\n",
        "\n",
        "Add a group to the waitlist with their name and the number of people in the group.\n",
        "Call the next group when a table is available.\n",
        "Show the current waitlist.\n",
        "\n",
        "Hint: Think of a data structure that's \"First In, First Out\".\n",
        "\n",
        "**Steps:**\n",
        "\n",
        "- Outline the required building blocks (classes, functions, data structures).\n",
        "- Formulate the approach.\n",
        "- Write Python solution.\n",
        "- UI Design\n"
      ],
      "metadata": {
        "id": "Zy3F9Q3iE2fX"
      }
    },
    {
      "cell_type": "code",
      "source": [
        "class Group:\n",
        "    def __init__(self, name, size):\n",
        "        self.name = name\n",
        "        self.size = size\n",
        "\n",
        "class WaitlistManager:\n",
        "    def __init__(self):\n",
        "        self.waitlist = queue.Queue()\n",
        "\n",
        "    def add_group(self, name, size):\n",
        "        group = Group(name, size)\n",
        "        self.waitlist.put(group)\n",
        "        return f\"{name} added to the waitlist.\"\n",
        "\n",
        "    def call_next_group(self):\n",
        "        if self.waitlist.qsize() > 0:\n",
        "            next_group = self.waitlist.get()\n",
        "            return f\"{next_group.name}, your table is ready!\"\n",
        "        else:\n",
        "            return \"No groups are waiting.\"\n",
        "\n",
        "    def show_waitlist(self):\n",
        "        if self.waitlist.qsize() == 0:\n",
        "            return \"The waitlist is empty.\"\n",
        "\n",
        "        output = \"Waitlist:\\n\"\n",
        "        temp_queue = queue.Queue()\n",
        "\n",
        "        while not self.waitlist.empty():\n",
        "            group = self.waitlist.get()\n",
        "            output += f\"{group.name} ({group.size} people)\\n\"\n",
        "            temp_queue.put(group)\n",
        "\n",
        "        # Restore original waitlist\n",
        "        while not temp_queue.empty():\n",
        "            self.waitlist.put(temp_queue.get())\n",
        "\n",
        "        return output\n"
      ],
      "metadata": {
        "id": "cgMfcFzYAqKt"
      },
      "execution_count": null,
      "outputs": []
    },
    {
      "cell_type": "markdown",
      "source": [
        "https://docs.streamlit.io/library/api-reference"
      ],
      "metadata": {
        "id": "dzr1LR85F3ad"
      }
    },
    {
      "cell_type": "code",
      "source": [
        "########################\n",
        "##write your code here##\n",
        "########################\n",
        "\n",
        "# Gradio/Streamlit\n"
      ],
      "metadata": {
        "id": "0vvu9oiFAvfe"
      },
      "execution_count": null,
      "outputs": []
    },
    {
      "cell_type": "markdown",
      "source": [
        "### Part III: Game Design (Divinity 2 -> Baldur's Gate 3 -> ??? 4)"
      ],
      "metadata": {
        "id": "pRrMsOoZS8oz"
      }
    },
    {
      "cell_type": "markdown",
      "source": [
        "https://en.wikipedia.org/wiki/Baldur's_Gate_3\n",
        "\n",
        "https://en.wikipedia.org/wiki/Divinity:_Original_Sin_II\n",
        "\n",
        "https://divinityoriginalsin2.wiki.fextralife.com/Divinity+Original+Sin+2+Wiki"
      ],
      "metadata": {
        "id": "cac8U1O1UXUW"
      }
    },
    {
      "cell_type": "markdown",
      "source": [
        "Divinity: Original Sin 2 is a highly regarded role-playing game (RPG) developed by Larian Studios.\n",
        "\n",
        "Dungeons & Dragons: In the game, players can control a party of up to four characters, each with their own unique abilities, traits, and backstories. The game world is highly interactive and dynamic, with numerous possible interactions and a vast array of potential outcomes based on player choices. The story takes place in a fantasy world where the player character and companions are \"Sourcerers\", individuals who can draw magical power from a mysterious force called Source. The player can recruit a diverse range of characters to join their party and also can create a custom character from scratch.\n",
        "\n",
        "**Key Features:**\n",
        "\n",
        "- Turn-Based Combat: Battles are strategic, where you'll need to think about positioning, environment, and the combination of abilities.\n",
        "\n",
        "- Deep Story: Richly written narratives, full of twists and turns, with characters that have detailed backstories and personal quests.\n",
        "\n",
        "- Multiplayer Co-op: While you can play alone, you can also play with friends. Each of you can make choices that affect the story, leading to interesting dynamics.\n",
        "\n",
        "- Interactivity: The world reacts to your choices. For instance, if you have the ability to manipulate fire, you could set a puddle of oil ablaze, creating a wall of flame between you and your enemies.\n",
        "\n",
        "- Customization: Equip your character with various weapons, armor, and magical items. As you progress, you'll also get to shape your character's abilities and skills to suit your playstyle.\n",
        "\n",
        "- Voice Acting: Almost every line in the game is voiced, adding depth and immersion to the narrative."
      ],
      "metadata": {
        "id": "sfRHqAnndYUk"
      }
    },
    {
      "cell_type": "markdown",
      "source": [
        "#### 1. Heroes of Rivellon"
      ],
      "metadata": {
        "id": "PVot0lwlTvtv"
      }
    },
    {
      "cell_type": "markdown",
      "source": [
        "Let's begin by simulating the various heroes and their abilities.\n",
        "\n",
        "**Scenario:** Create a class for heroes in Divinity 2. Every hero has a name, health, a primary attack, and some special abilities. You need to model these heroes and their interactions.\n",
        "\n",
        "**Task:** Create classes for the hero and some sample heroes."
      ],
      "metadata": {
        "id": "dNrYYD4hT4Yq"
      }
    },
    {
      "cell_type": "code",
      "source": [
        "# hero.py\n",
        "class Hero:\n",
        "    def __init__(self, name, health, primary_attack, abilities, mana=100):\n",
        "        self.name = name\n",
        "        self.health = health\n",
        "        self.primary_attack = primary_attack\n",
        "        self.abilities = abilities  # dict with ability: mana_cost, damage, type, etc.\n",
        "        self.mana = mana\n",
        "\n",
        "    def attack(self, target):\n",
        "        if target.health <= 0:\n",
        "            raise DefeatedError(target.name)\n",
        "        if self.is_friendly_with(target):\n",
        "            raise FriendlyFireError()\n",
        "\n",
        "    def use_ability(self, ability, target):\n",
        "        if ability not in self.abilities:\n",
        "            raise NoAbilityError(self.name, ability)\n",
        "        if self.mana < self.abilities[ability]:\n",
        "            raise NoManaError(self.name)\n",
        "\n",
        "    def is_friendly_with(self, other_hero):\n",
        "        # For this example, we'll assume all heroes with same primary_attack are friends but feel free to change\n",
        "        return self.primary_attack == other_hero.primary_attack\n"
      ],
      "metadata": {
        "id": "5gxTJLlhS82a"
      },
      "execution_count": null,
      "outputs": []
    },
    {
      "cell_type": "code",
      "source": [
        "########################\n",
        "##write your code here##\n",
        "########################\n",
        "\n",
        "# Design your hero class"
      ],
      "metadata": {
        "id": "KrbwZWUxHXIx"
      },
      "execution_count": null,
      "outputs": []
    },
    {
      "cell_type": "code",
      "source": [
        "def test_attack_defeated_target():\n",
        "    hero1 = Hero(\"Hero1\", 100, \"Sword\", {\"Fireball\": 30})\n",
        "    hero3 = Hero(\"Hero3\", 0, \"Sword\", {\"Lightning Bolt\": 50})\n",
        "    try:\n",
        "        hero1.attack(hero3)\n",
        "    except DefeatedError:\n",
        "        print(\"test_attack_defeated_target: Passed\")\n",
        "    else:\n",
        "        print(\"test_attack_defeated_target: Failed\")\n",
        "\n",
        "def test_attack_friendly_target():\n",
        "    hero1 = Hero(\"Hero1\", 100, \"Sword\", {\"Fireball\": 30})\n",
        "    friendly_hero = Hero(\"FriendlyHero\", 100, \"Sword\", {\"Wind Slash\": 20})\n",
        "    try:\n",
        "        hero1.attack(friendly_hero)\n",
        "    except FriendlyFireError:\n",
        "        print(\"test_attack_friendly_target: Passed\")\n",
        "    else:\n",
        "        print(\"test_attack_friendly_target: Failed\")\n",
        "\n",
        "def test_use_non_existent_ability():\n",
        "    hero1 = Hero(\"Hero1\", 100, \"Sword\", {\"Fireball\": 30})\n",
        "    hero2 = Hero(\"Hero2\", 100, \"Magic\", {\"Ice Shard\": 40})\n",
        "    try:\n",
        "        hero1.use_ability(\"NonExistentAbility\", hero2)\n",
        "    except NoAbilityError:\n",
        "        print(\"test_use_non_existent_ability: Passed\")\n",
        "    else:\n",
        "        print(\"test_use_non_existent_ability: Failed\")\n",
        "\n",
        "def test_use_ability_no_mana():\n",
        "    hero1 = Hero(\"Hero1\", 10, \"Sword\", {\"Fireball\": 30})\n",
        "    hero2 = Hero(\"Hero2\", 100, \"Magic\", {\"Ice Shard\": 40})\n",
        "    try:\n",
        "        hero1.use_ability(\"Fireball\", hero2)\n",
        "    except NoManaError:\n",
        "        print(\"test_use_ability_no_mana: Passed\")\n",
        "    else:\n",
        "        print(\"test_use_ability_no_mana: Failed\")\n",
        "\n",
        "def test_is_friendly_with():\n",
        "    hero1 = Hero(\"Hero1\", 100, \"Sword\", {\"Fireball\": 30})\n",
        "    hero2 = Hero(\"Hero2\", 100, \"Magic\", {\"Ice Shard\": 40})\n",
        "    if hero1.is_friendly_with(hero2):\n",
        "        print(\"test_is_friendly_with: Failed\")\n",
        "    else:\n",
        "        print(\"test_is_friendly_with: Passed\")\n",
        "\n",
        "# Run the tests\n",
        "test_attack_defeated_target()\n",
        "test_attack_friendly_target()\n",
        "test_use_non_existent_ability()\n",
        "test_use_ability_no_mana()\n",
        "test_is_friendly_with()"
      ],
      "metadata": {
        "colab": {
          "base_uri": "https://localhost:8080/"
        },
        "id": "fZyLI9C6acI0",
        "outputId": "f2dfacfb-3b29-4306-c6d1-5744731b1c47"
      },
      "execution_count": 9,
      "outputs": [
        {
          "output_type": "stream",
          "name": "stdout",
          "text": [
            "test_attack_defeated_target: Passed\n",
            "test_attack_friendly_target: Passed\n",
            "test_use_non_existent_ability: Passed\n",
            "test_use_ability_no_mana: Failed\n",
            "test_is_friendly_with: Passed\n"
          ]
        }
      ]
    },
    {
      "cell_type": "code",
      "source": [
        "########################\n",
        "##write your code here##\n",
        "########################\n",
        "\n",
        "# write your tests for your class"
      ],
      "metadata": {
        "id": "m32_V7YnHgrj"
      },
      "execution_count": null,
      "outputs": []
    },
    {
      "cell_type": "markdown",
      "source": [
        "Here is a very detailed design for one ability/skill"
      ],
      "metadata": {
        "id": "YBMfM5nXHmqi"
      }
    },
    {
      "cell_type": "code",
      "source": [
        "'''\n",
        "IAction\n",
        "{\n",
        "Name: Fireball\n",
        "Class: Fire\n",
        "\n",
        "Resource\n",
        "{\n",
        "Type: Mana\n",
        "value: 10\n",
        "Time: OnCast\n",
        "}\n",
        "\n",
        "Target\n",
        "{\n",
        "Type: ENEMY\n",
        "Range: 5\n",
        "Walkable: false\n",
        "}\n",
        "\n",
        "Effects\n",
        "{\n",
        "VEffect\n",
        "{\n",
        "Type: PlayAnimation\n",
        "value: ChannelAnim\n",
        "duration: 10\n",
        "onFinish\n",
        "{\n",
        "    VEffect\n",
        "    {\n",
        "      Type: PlayAnimation\n",
        "      value: CastAnim\n",
        "    }\n",
        "    VEffect\n",
        "   {\n",
        "     Type: Projectile\n",
        "     Value: Fireball\n",
        "     Position: Caster\n",
        "     Target: Target\n",
        "     Speed: 10\n",
        "     delay: 5\n",
        "     onFinish\n",
        "    {\n",
        "\n",
        "        Effect\n",
        "        {\n",
        "            Type: Damage\n",
        "            Value: CASTER_MAGIC_DMG * 10\n",
        "            Target: Target\n",
        "        }\n",
        "        Effect\n",
        "        {\n",
        "            Type: DamageOverTime\n",
        "             Duration: 5t\n",
        "             Target: Target\n",
        "             onActive\n",
        "            {\n",
        "                   VEffect\n",
        "                  {\n",
        "                        Type: Particle\n",
        "                        Value: Fire\n",
        "                        Target: Target\n",
        "                        duration: 3\n",
        "                 }\n",
        " }\n",
        "}\n",
        "'''"
      ],
      "metadata": {
        "id": "-oNhKL3ZcOni"
      },
      "execution_count": null,
      "outputs": []
    },
    {
      "cell_type": "markdown",
      "source": [
        "#### 2. Error Handling in the Fight"
      ],
      "metadata": {
        "id": "iojkRlV1UGHF"
      }
    },
    {
      "cell_type": "markdown",
      "source": [
        "Now, imagine during a battle, if a hero tries to use an ability they don't have, it should raise an error. Or if someone tries to attack a target with no health, an error should be raised.\n",
        "\n",
        "Task: Implement error handling in the hero methods to cater for these cases."
      ],
      "metadata": {
        "id": "Tu9ggzbtU7ff"
      }
    },
    {
      "cell_type": "code",
      "source": [
        "class BattleError(Exception):\n",
        "    pass\n",
        "\n",
        "class DefeatedError(BattleError):\n",
        "    def __init__(self, hero_name):\n",
        "        super().__init__(f\"{hero_name} is already defeated!\")\n",
        "\n",
        "class NoAbilityError(BattleError):\n",
        "    def __init__(self, hero_name, ability):\n",
        "        super().__init__(f\"{hero_name} does not have the {ability} ability!\")\n",
        "\n",
        "class NoManaError(BattleError):\n",
        "    def __init__(self, hero_name):\n",
        "        super().__init__(f\"{hero_name} has insufficient mana for the ability!\")\n",
        "\n",
        "class FriendlyFireError(BattleError):\n",
        "    def __init__(self):\n",
        "        super().__init__(\"Can't attack friendly units!\")\n"
      ],
      "metadata": {
        "id": "Mxe2M2OHVyYt"
      },
      "execution_count": null,
      "outputs": []
    },
    {
      "cell_type": "code",
      "source": [
        "########################\n",
        "##write your code here##\n",
        "########################\n",
        "\n",
        "# Come up with the error handlings you can imagine"
      ],
      "metadata": {
        "id": "PzPvy8c7HzY-"
      },
      "execution_count": null,
      "outputs": []
    },
    {
      "cell_type": "markdown",
      "source": [
        "Designing NPC is similar to design the hero, but this time, consider the error handling when creating the class"
      ],
      "metadata": {
        "id": "xVgCmSTcIz6j"
      }
    },
    {
      "cell_type": "code",
      "source": [
        "class NPC:\n",
        "    def __init__(self, name, information, trade_items, puzzle):\n",
        "        self.name = name\n",
        "        self.information = information  # Information NPC can provide\n",
        "        self.trade_items = trade_items  # List of items NPC can trade\n",
        "        self.puzzle = puzzle  # Some puzzle the NPC might offer\n",
        "        self.alive = True\n",
        "\n",
        "    def provide_info(self):\n",
        "        if not self.alive:\n",
        "            raise ValueError(f\"{self.name} is no longer with us.\")\n",
        "        return self.information\n",
        "\n",
        "    def trade(self, item_index):\n",
        "        try:\n",
        "            item = self.trade_items[item_index]\n",
        "            self.trade_items.pop(item_index)\n",
        "            return item\n",
        "        except IndexError:\n",
        "            raise IndexError(f\"{self.name} doesn't have an item at position {item_index}!\")\n",
        "\n",
        "    def give_puzzle(self, hero):\n",
        "        try:\n",
        "            return self.puzzle(hero)\n",
        "        except TypeError:\n",
        "            return f\"{hero.name} provided the wrong type of input!\"\n",
        "\n",
        "    def steal(self):\n",
        "        if not self.alive:\n",
        "            raise ValueError(f\"{self.name} is no longer with us. Looting might be more appropriate!\")\n",
        "        if not self.trade_items:\n",
        "            raise ValueError(f\"{self.name} has nothing to steal!\")\n",
        "        stolen_item = self.trade_items.pop()  # Steal the last item\n",
        "        return stolen_item\n",
        "\n",
        "    def attack(self, damage):\n",
        "        # This is a simplified version of combat for brevity.\n",
        "        # In a more complete version, you'd factor in health, defense, etc.\n",
        "        self.alive = False\n",
        "        return f\"{self.name} has been defeated!\"\n"
      ],
      "metadata": {
        "id": "v_V3qZpDXCgX"
      },
      "execution_count": null,
      "outputs": []
    },
    {
      "cell_type": "code",
      "source": [
        "########################\n",
        "##write your code here##\n",
        "########################\n",
        "\n",
        "# Design your NPCs"
      ],
      "metadata": {
        "id": "r05l_JtyH-8B"
      },
      "execution_count": null,
      "outputs": []
    },
    {
      "cell_type": "markdown",
      "source": [
        "**If you have time you can create more game details as shown below** (Optional)"
      ],
      "metadata": {
        "id": "IYUFRLzaIRZ_"
      }
    },
    {
      "cell_type": "markdown",
      "source": [
        "#### 2.5 Combat Effect"
      ],
      "metadata": {
        "id": "6fAIjwYLJG5p"
      }
    },
    {
      "cell_type": "code",
      "source": [
        "class CombatEffect:\n",
        "    def __init__(self, effect_code, expiry_time, is_beneficial, can_stack, priority_type, removable_type, expirable_type):\n",
        "        self.effect_code = effect_code\n",
        "        self.expiry_time = expiry_time\n",
        "        self.is_beneficial = is_beneficial\n",
        "        self.can_stack = can_stack\n",
        "        self.priority_type = priority_type\n",
        "        self.removable_type = removable_type\n",
        "        self.expirable_type = expirable_type\n",
        "        self.entry_effect = None  # Applied ONCE when the effect comes into play\n",
        "        self.tick_effect = None   # Applied whenever the effect 'ticks', e.g., BURN procs\n",
        "        self.persistent_effect = None  # Applied constantly until removed/expired e.g., STR buffs\n",
        "        self.on_leave_effect = None    # Applied ONCE when effect leaves\n"
      ],
      "metadata": {
        "id": "QHaUhGAaeoFs"
      },
      "execution_count": null,
      "outputs": []
    },
    {
      "cell_type": "markdown",
      "source": [
        "Every hero battle in Divinity 2 doesn't just involve attacks and abilities. There are also various combat effects – buffs, debuffs, statuses, and more that can influence the outcome of any battle. Understanding and managing these effects is crucial.\n",
        "\n",
        "Scenario: Implement a CombatEffect class that can represent a wide range of in-game effects, from a simple strength buff to a burning debuff that damages the hero over time.\n",
        "\n",
        "Here's a basic structure to start:\n",
        "\n"
      ],
      "metadata": {
        "id": "LIGwkxDme1AU"
      }
    },
    {
      "cell_type": "markdown",
      "source": [
        "Tasks:\n",
        "\n",
        "1. Given this basic structure, your task is to expand on it. How would you implement methods to apply these effects, especially considering their priority and interactions with other effects? Remember to account for potential errors – what happens if an effect tries to stack but can_stack is False?\n",
        "\n",
        "2. Consider the delegate functions. Can you replace the built-in Python functions used as placeholders with actual game-related logic? How would you do it? Enhance the hero class?\n",
        "\n",
        "3. Simulate a battle where these effects come into play. For example, after a particular attack, a hero gets a 'BURN' effect. How does it impact the hero over time? Can another hero use a 'CLEANSE' effect to remove it?\n"
      ],
      "metadata": {
        "id": "OonNbiQ7fEcT"
      }
    },
    {
      "cell_type": "code",
      "source": [
        "def burn_tick_effect(target_hero):\n",
        "    \"\"\"Reduces the hero's health by 5 on each tick.\"\"\"\n",
        "    target_hero.health -= 5\n",
        "    print(f\"{target_hero.name} takes 5 burn damage!\")\n",
        "\n",
        "burn_effect = CombatEffect(\n",
        "    effect_code=\"BURN\",\n",
        "    expiry_time=3,  # lasts for 3 turns\n",
        "    is_beneficial=False,\n",
        "    can_stack=True,\n",
        "    priority_type=1,\n",
        "    removable_type=\"CLEANSABLE\",\n",
        "    expirable_type=\"EXPIRABLE\"\n",
        ")\n",
        "burn_effect.tick_effect = burn_tick_effect"
      ],
      "metadata": {
        "id": "plMc7RuifLux"
      },
      "execution_count": null,
      "outputs": []
    },
    {
      "cell_type": "code",
      "source": [
        "########################\n",
        "##write your code here##\n",
        "########################\n",
        "\n",
        "# Design your CombatEffect"
      ],
      "metadata": {
        "id": "KcZgyhutIZZt"
      },
      "execution_count": null,
      "outputs": []
    },
    {
      "cell_type": "markdown",
      "source": [
        "#### 3. Inventory System with Stack and Queue"
      ],
      "metadata": {
        "id": "fRWNu24jU3x2"
      }
    },
    {
      "cell_type": "markdown",
      "source": [
        "In Divinity 2, players often have an inventory where items are stacked, and sometimes players queue up actions or abilities for their turn.\n",
        "\n",
        "Scenario: Implement the inventory using a stack mechanism (last item picked is the first to be used or removed). Actions in a turn should be queued up.\n",
        "\n",
        "Task: Create an inventory (using stack) and action queue for the heroes."
      ],
      "metadata": {
        "id": "Q_EPA76pVO21"
      }
    },
    {
      "cell_type": "code",
      "source": [
        "class Inventory:\n",
        "    def __init__(self):\n",
        "        self.items = []\n",
        "\n",
        "    def add_item(self, item):\n",
        "        self.items.append(item)\n",
        "\n",
        "    def use_item(self):\n",
        "        if not self.items:\n",
        "            raise ValueError(\"Inventory is empty!\")\n",
        "        return self.items.pop()\n",
        "\n",
        "class ActionQueue:\n",
        "    def __init__(self):\n",
        "        self.actions = []\n",
        "\n",
        "    def add_action(self, action):\n",
        "        self.actions.append(action)\n",
        "\n",
        "    def execute_next_action(self):\n",
        "        if not self.actions:\n",
        "            raise ValueError(\"No actions queued!\")\n",
        "        return self.actions.pop(0)\n"
      ],
      "metadata": {
        "id": "ogf_pJyR-XMr"
      },
      "execution_count": null,
      "outputs": []
    },
    {
      "cell_type": "code",
      "source": [
        "########################\n",
        "##write your code here##\n",
        "########################\n",
        "\n",
        "# Design your Inventory system"
      ],
      "metadata": {
        "id": "JSLoG_7WJOZ-"
      },
      "execution_count": null,
      "outputs": []
    },
    {
      "cell_type": "markdown",
      "source": [
        "#### 4. Debugging Session\n",
        "\n"
      ],
      "metadata": {
        "id": "wlmzcybAVctn"
      }
    },
    {
      "cell_type": "markdown",
      "source": [
        "After you've implemented the above, I've intentionally added a small bug in the ActionQueue. When multiple actions are queued and the execute_next_action is called, it's executing the last action added instead of the first.\n",
        "\n",
        "Task: Identify the bug and fix it. [Hint: It's related to the data structure being used.]"
      ],
      "metadata": {
        "id": "3omVqsIEVfuq"
      }
    },
    {
      "cell_type": "markdown",
      "source": [
        "This is just to give you a start on debugging. Be aware of bugs all the time!!"
      ],
      "metadata": {
        "id": "A0fZvV_6XxCG"
      }
    },
    {
      "cell_type": "code",
      "source": [],
      "metadata": {
        "id": "2zHL3WrOVfSL"
      },
      "execution_count": null,
      "outputs": []
    },
    {
      "cell_type": "markdown",
      "source": [
        "#### 5.UI Design with Streamlit & Gradio"
      ],
      "metadata": {
        "id": "l1TKPHGPYt0L"
      }
    },
    {
      "cell_type": "code",
      "source": [
        "########################\n",
        "##write your code here##\n",
        "########################\n",
        "\n",
        "# Design your UI (hero selection, battle, inventory, etc.)\n",
        "# Use the following as your reference"
      ],
      "metadata": {
        "id": "Z5qJNJOvKV2s"
      },
      "execution_count": null,
      "outputs": []
    },
    {
      "cell_type": "markdown",
      "source": [
        "5a. Character Selection with UI\n",
        "\n",
        "Scenario: Allow the user to select a hero character through a simple UI and then display the selected hero's attributes.\n",
        "\n",
        "Task: Use Streamlit to create a dropdown of available heroes. When a user selects a hero, display the hero's attributes (name, health, primary attack, abilities)."
      ],
      "metadata": {
        "id": "tLfOzChuZUTU"
      }
    },
    {
      "cell_type": "code",
      "source": [
        "heroes = [Lohse, Fane] # Assuming you have created two heros Lohse & Fane (These are two characters I chose when playing the game lol)\n",
        "selected_hero = st.selectbox('Choose your hero:', heroes, format_func=lambda x: x.name)\n",
        "\n",
        "st.write(f\"Name: {selected_hero.name}\")\n",
        "st.write(f\"Health: {selected_hero.health}\")\n",
        "st.write(f\"Primary Attack: {selected_hero.primary_attack}\")\n",
        "st.write(f\"Abilities: {', '.join(selected_hero.abilities)}\")"
      ],
      "metadata": {
        "id": "jCqltc0waZDo"
      },
      "execution_count": null,
      "outputs": []
    },
    {
      "cell_type": "markdown",
      "source": [
        "5b. Simulating Battles with UI\n",
        "\n",
        "Scenario: Allow users to simulate a battle sequence between two heroes using a UI. Users should be able to select heroes, use abilities, and see the outcome of the battle.\n",
        "\n",
        "Task: Extend the Streamlit application to include buttons for attacks and abilities. After each action, update the UI to reflect the changes in the heroes' health and status."
      ],
      "metadata": {
        "id": "sQnPNVVuaQJA"
      }
    },
    {
      "cell_type": "code",
      "source": [
        "opponent = st.selectbox('Choose your opponent:', heroes, format_func=lambda x: x.name)\n",
        "\n",
        "if st.button('Attack!'):\n",
        "    selected_hero.attack(opponent)\n",
        "    st.write(f\"{selected_hero.name} attacked {opponent.name}!\")\n",
        "\n",
        "if st.button(f\"Use {selected_hero.abilities[0]}\"):\n",
        "    selected_hero.use_ability(selected_hero.abilities[0], opponent)\n",
        "    st.write(f\"{selected_hero.name} used {selected_hero.abilities[0]} on {opponent.name}!\")\n",
        "\n",
        "# And so on for other abilities and items\n",
        "\n",
        "# Displaying updated health after actions\n",
        "st.write(f\"{selected_hero.name}'s Health: {selected_hero.health}\")\n",
        "st.write(f\"{opponent.name}'s Health: {opponent.health}\")\n"
      ],
      "metadata": {
        "id": "-6iulcZJYuEm"
      },
      "execution_count": null,
      "outputs": []
    },
    {
      "cell_type": "markdown",
      "source": [
        "#### 6. Debugging UI Issues\n",
        "\n",
        "\n"
      ],
      "metadata": {
        "id": "saymOPyWazGN"
      }
    },
    {
      "cell_type": "markdown",
      "source": [
        "After you've implemented the above UI, introduce a few intentional \"bugs\" or inefficiencies:\n",
        "\n",
        "Maybe the health doesn't update immediately after an action.\n",
        "Or pressing a button doesn't always trigger an ability.\n",
        "\n",
        "Task: Debug the Streamlit app, identify these issues, and fix them.\n",
        "\n",
        "https://docs.streamlit.io/library/api-reference"
      ],
      "metadata": {
        "id": "5OOCjWXQLl8a"
      }
    },
    {
      "cell_type": "code",
      "source": [],
      "metadata": {
        "id": "QCXp9EcwLtB6"
      },
      "execution_count": null,
      "outputs": []
    },
    {
      "cell_type": "markdown",
      "source": [
        "#### 7. Enhancing the UI\n",
        "\n"
      ],
      "metadata": {
        "id": "7n5FVAFFf1Uk"
      }
    },
    {
      "cell_type": "markdown",
      "source": [
        "Scenario: The current UI is functional but looks very basic. Enhance the UI to make it more visually appealing and user-friendly.\n",
        "\n",
        "Task: Use Streamlit widgets and layout capabilities to enhance the appearance of the app. Add images for heroes, use columns to display hero attributes, and possibly incorporate other widgets like sliders for selecting the number of items or multi-select for choosing multiple abilities."
      ],
      "metadata": {
        "id": "5yJ-jRLiLpyL"
      }
    },
    {
      "cell_type": "code",
      "source": [],
      "metadata": {
        "id": "7IfxY8ccf1b6"
      },
      "execution_count": null,
      "outputs": []
    },
    {
      "cell_type": "markdown",
      "source": [
        "#### 8. Simulation & Testing"
      ],
      "metadata": {
        "id": "ZmZEhpzUf4el"
      }
    },
    {
      "cell_type": "code",
      "source": [
        "class Arena:\n",
        "    def __init__(self, hero1, hero2):\n",
        "        self.hero1 = hero1\n",
        "        self.hero2 = hero2\n",
        "\n",
        "    def simulate_turn(self):\n",
        "        # Hero1's turn\n",
        "        self.hero1.execute_effects()\n",
        "        self.hero1.attack(self.hero2)\n",
        "\n",
        "        # Hero2's turn\n",
        "        self.hero2.execute_effects()\n",
        "        self.hero2.attack(self.hero1)\n",
        "\n",
        "        # Display hero stats after the turn\n",
        "        print(f\"{self.hero1.name} has {self.hero1.health} health remaining.\")\n",
        "        print(f\"{self.hero2.name} has {self.hero2.health} health remaining.\")"
      ],
      "metadata": {
        "id": "1q1t8L1qf50v"
      },
      "execution_count": null,
      "outputs": []
    },
    {
      "cell_type": "code",
      "source": [
        "lohse = Hero(name=\"Lohse\", health=100, primary_attack=\"Sing\", abilities=[])\n",
        "fane = Hero(name=\"Fane\", health=100, primary_attack=\"Bone Cage\", abilities=[])\n",
        "\n",
        "battle_arena = Arena(lohse, fane)\n",
        "\n",
        "# Simulate 10 turns\n",
        "for turn in range(10):\n",
        "    print(f\"\\n--- Turn {turn + 1} ---\")\n",
        "    battle_arena.simulate_turn()"
      ],
      "metadata": {
        "id": "j4FV5mopgNnA"
      },
      "execution_count": null,
      "outputs": []
    },
    {
      "cell_type": "markdown",
      "source": [
        "## Appendix"
      ],
      "metadata": {
        "id": "HLLRYUELxbqm"
      }
    },
    {
      "cell_type": "markdown",
      "source": [
        "### Part I"
      ],
      "metadata": {
        "id": "8fca-VLeXPuc"
      }
    },
    {
      "cell_type": "code",
      "source": [
        "def find_contiguous_subarrays(arr, target):\n",
        "    \"\"\"\n",
        "    Find all contiguous subarrays that sum up to the target value.\n",
        "\n",
        "    Args:\n",
        "    - arr (list of int): Input array\n",
        "    - target (int): Target sum\n",
        "\n",
        "    Returns:\n",
        "    - List of subarrays (list of lists)\n",
        "    \"\"\"\n",
        "\n",
        "    window_start, window_sum = 0, 0\n",
        "    result = []\n",
        "\n",
        "    for window_end in range(len(arr)):\n",
        "        window_sum += arr[window_end]\n",
        "\n",
        "        while window_sum > target:\n",
        "            window_sum -= arr[window_start]\n",
        "            window_start += 1\n",
        "\n",
        "        if window_sum == target:\n",
        "            result.append(arr[window_start:window_end+1])\n",
        "\n",
        "    return result\n"
      ],
      "metadata": {
        "id": "6p-qjQyPxcvC"
      },
      "execution_count": null,
      "outputs": []
    },
    {
      "cell_type": "markdown",
      "source": [
        "### Part II"
      ],
      "metadata": {
        "id": "dfChH0mUXMbp"
      }
    },
    {
      "cell_type": "code",
      "source": [
        "# resturant_waitlist.py\n",
        "# streamlit run resturant_waitlist.py\n",
        "import queue\n",
        "import streamlit as st\n",
        "\n",
        "class Group:\n",
        "    def __init__(self, name, size):\n",
        "        self.name = name\n",
        "        self.size = size\n",
        "\n",
        "class WaitlistManager:\n",
        "    def __init__(self):\n",
        "        self.waitlist = queue.Queue()\n",
        "\n",
        "    def add_group(self, name, size):\n",
        "        group = Group(name, size)\n",
        "        self.waitlist.put(group)\n",
        "        return f\"{name} added to the waitlist.\"\n",
        "\n",
        "    def call_next_group(self):\n",
        "        if self.waitlist.qsize() > 0:\n",
        "            next_group = self.waitlist.get()\n",
        "            return f\"{next_group.name}, your table is ready!\"\n",
        "        else:\n",
        "            return \"No groups are waiting.\"\n",
        "\n",
        "    def show_waitlist(self):\n",
        "        if self.waitlist.qsize() == 0:\n",
        "            return \"The waitlist is empty.\"\n",
        "\n",
        "        output = \"Waitlist:\\n\"\n",
        "        temp_queue = queue.Queue()\n",
        "\n",
        "        while not self.waitlist.empty():\n",
        "            group = self.waitlist.get()\n",
        "            output += f\"{group.name} ({group.size} people)\\n\"\n",
        "            temp_queue.put(group)\n",
        "\n",
        "        while not temp_queue.empty():\n",
        "            self.waitlist.put(temp_queue.get())\n",
        "\n",
        "        return output\n",
        "\n",
        "# Streamlit UI\n",
        "st.title(\"Restaurant Waitlist Manager\")\n",
        "\n",
        "if \"waitlist\" not in st.session_state:\n",
        "    st.session_state.waitlist = []\n",
        "\n",
        "name = st.text_input(\"Group Name:\")\n",
        "size = st.number_input(\"Number of People:\", min_value=1, max_value=20, step=1)\n",
        "\n",
        "## Add Group to Waitlist\n",
        "if st.button(\"Add to Waitlist\") and name:\n",
        "    st.session_state.waitlist.append(Group(name, int(size)))\n",
        "    st.success(f\"{name} added to the waitlist.\")\n",
        "\n",
        "## Call Next Group\n",
        "if st.button(\"Call Next Group\"):\n",
        "    if st.session_state.waitlist:\n",
        "        next_group = st.session_state.waitlist.pop(0)\n",
        "        st.success(f\"{next_group.name}, your table is ready!\")\n",
        "    else:\n",
        "        st.warning(\"No groups are waiting.\")\n",
        "\n",
        "## Show Waitlist\n",
        "if st.button(\"Show Waitlist\") or (\"show_waitlist\" in st.session_state and st.session_state.show_waitlist):\n",
        "    st.session_state.show_waitlist = True\n",
        "\n",
        "    if st.session_state.waitlist:\n",
        "        st.subheader(\"Waitlist:\")\n",
        "        for group in st.session_state.waitlist:\n",
        "            st.text(f\"{group.name} ({group.size} people)\")\n",
        "    else:\n",
        "        st.warning(\"The waitlist is empty.\")"
      ],
      "metadata": {
        "id": "AoEyg6ug1uMU"
      },
      "execution_count": null,
      "outputs": []
    },
    {
      "cell_type": "markdown",
      "source": [
        "### Part III"
      ],
      "metadata": {
        "id": "aXTn0XuvXRgv"
      }
    },
    {
      "cell_type": "markdown",
      "source": [
        "#### Test Function"
      ],
      "metadata": {
        "id": "inSkwJwaXThN"
      }
    },
    {
      "cell_type": "code",
      "source": [
        "# test_hero.py\n",
        "# python -m unittest test_hero.py\n",
        "\n",
        "class TestHero(unittest.TestCase):\n",
        "\n",
        "    def setUp(self):\n",
        "        # Creating two hero instances for testing\n",
        "        self.hero1 = Hero(\"Hero1\", 100, \"Sword\", {\"Fireball\": 30})\n",
        "        self.hero2 = Hero(\"Hero2\", 100, \"Magic\", {\"Ice Shard\": 40})\n",
        "        self.hero3 = Hero(\"Hero3\", 0, \"Sword\", {\"Lightning Bolt\": 50})\n",
        "\n",
        "    def test_attack_defeated_target(self):\n",
        "        # Testing if attacking a defeated target (health <= 0) raises a DefeatedError\n",
        "        with self.assertRaises(DefeatedError):\n",
        "            self.hero1.attack(self.hero3)\n",
        "\n",
        "    def test_attack_friendly_target(self):\n",
        "        # Testing if attacking a friendly target raises a FriendlyFireError\n",
        "        with self.assertRaises(FriendlyFireError):\n",
        "            self.hero1.attack(Hero(\"FriendlyHero\", 100, \"Sword\", {\"Wind Slash\": 20}))\n",
        "\n",
        "    def test_use_non_existent_ability(self):\n",
        "        # Testing if using a non-existent ability raises a NoAbilityError\n",
        "        with self.assertRaises(NoAbilityError):\n",
        "            self.hero1.use_ability(\"NonExistentAbility\", self.hero2)\n",
        "\n",
        "    def test_use_ability_no_mana(self):\n",
        "        # Testing if using an ability without enough mana raises a NoManaError\n",
        "        self.hero1.mana = 10  # Setting mana to an insufficient amount\n",
        "        with self.assertRaises(NoManaError):\n",
        "            self.hero1.use_ability(\"Fireball\", self.hero2)\n",
        "\n",
        "    def test_is_friendly_with(self):\n",
        "        # Testing the is_friendly_with method\n",
        "        self.assertTrue(self.hero1.is_friendly_with(Hero(\"FriendlyHero\", 100, \"Sword\", {\"Wind Slash\": 20})))\n",
        "        self.assertFalse(self.hero1.is_friendly_with(self.hero2))\n",
        "\n",
        "if __name__ == \"__main__\":\n",
        "    unittest.main()"
      ],
      "metadata": {
        "id": "tes7-ZToXLOi"
      },
      "execution_count": 8,
      "outputs": []
    }
  ]
}